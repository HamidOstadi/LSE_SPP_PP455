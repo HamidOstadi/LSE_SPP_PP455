{
 "cells": [
  {
   "cell_type": "code",
   "execution_count": 1,
   "id": "3e969b87-771d-4ee5-bf0f-cd852c554db3",
   "metadata": {},
   "outputs": [
    {
     "data": {
      "text/html": [
       "<div>\n",
       "<style scoped>\n",
       "    .dataframe tbody tr th:only-of-type {\n",
       "        vertical-align: middle;\n",
       "    }\n",
       "\n",
       "    .dataframe tbody tr th {\n",
       "        vertical-align: top;\n",
       "    }\n",
       "\n",
       "    .dataframe thead th {\n",
       "        text-align: right;\n",
       "    }\n",
       "</style>\n",
       "<table border=\"1\" class=\"dataframe\">\n",
       "  <thead>\n",
       "    <tr style=\"text-align: right;\">\n",
       "      <th></th>\n",
       "      <th>hhref</th>\n",
       "      <th>weight</th>\n",
       "      <th>totinc</th>\n",
       "      <th>totexp</th>\n",
       "      <th>food</th>\n",
       "      <th>region</th>\n",
       "      <th>numads</th>\n",
       "      <th>kids0</th>\n",
       "      <th>kids1</th>\n",
       "      <th>kids2</th>\n",
       "      <th>kids34</th>\n",
       "      <th>kids510</th>\n",
       "      <th>kids1116</th>\n",
       "      <th>kids1718</th>\n",
       "      <th>agehead</th>\n",
       "    </tr>\n",
       "  </thead>\n",
       "  <tbody>\n",
       "    <tr>\n",
       "      <th>0</th>\n",
       "      <td>1</td>\n",
       "      <td>0.856118</td>\n",
       "      <td>136.800003</td>\n",
       "      <td>68.044998</td>\n",
       "      <td>20.684999</td>\n",
       "      <td>Northern</td>\n",
       "      <td>1</td>\n",
       "      <td>0</td>\n",
       "      <td>0</td>\n",
       "      <td>0</td>\n",
       "      <td>0</td>\n",
       "      <td>1</td>\n",
       "      <td>0</td>\n",
       "      <td>0</td>\n",
       "      <td>34</td>\n",
       "    </tr>\n",
       "    <tr>\n",
       "      <th>1</th>\n",
       "      <td>2</td>\n",
       "      <td>0.856118</td>\n",
       "      <td>178.220001</td>\n",
       "      <td>134.720001</td>\n",
       "      <td>29.410000</td>\n",
       "      <td>Northern</td>\n",
       "      <td>1</td>\n",
       "      <td>0</td>\n",
       "      <td>0</td>\n",
       "      <td>0</td>\n",
       "      <td>0</td>\n",
       "      <td>1</td>\n",
       "      <td>1</td>\n",
       "      <td>0</td>\n",
       "      <td>36</td>\n",
       "    </tr>\n",
       "    <tr>\n",
       "      <th>2</th>\n",
       "      <td>3</td>\n",
       "      <td>1.147964</td>\n",
       "      <td>193.119995</td>\n",
       "      <td>220.154007</td>\n",
       "      <td>45.145000</td>\n",
       "      <td>Northern</td>\n",
       "      <td>2</td>\n",
       "      <td>0</td>\n",
       "      <td>0</td>\n",
       "      <td>0</td>\n",
       "      <td>0</td>\n",
       "      <td>0</td>\n",
       "      <td>0</td>\n",
       "      <td>0</td>\n",
       "      <td>40</td>\n",
       "    </tr>\n",
       "    <tr>\n",
       "      <th>3</th>\n",
       "      <td>4</td>\n",
       "      <td>1.008699</td>\n",
       "      <td>202.930008</td>\n",
       "      <td>101.184998</td>\n",
       "      <td>17.905001</td>\n",
       "      <td>Northern</td>\n",
       "      <td>1</td>\n",
       "      <td>0</td>\n",
       "      <td>0</td>\n",
       "      <td>0</td>\n",
       "      <td>0</td>\n",
       "      <td>0</td>\n",
       "      <td>0</td>\n",
       "      <td>0</td>\n",
       "      <td>74</td>\n",
       "    </tr>\n",
       "    <tr>\n",
       "      <th>4</th>\n",
       "      <td>5</td>\n",
       "      <td>1.169602</td>\n",
       "      <td>222.209991</td>\n",
       "      <td>81.120003</td>\n",
       "      <td>17.420000</td>\n",
       "      <td>Northern</td>\n",
       "      <td>1</td>\n",
       "      <td>0</td>\n",
       "      <td>0</td>\n",
       "      <td>0</td>\n",
       "      <td>0</td>\n",
       "      <td>0</td>\n",
       "      <td>0</td>\n",
       "      <td>0</td>\n",
       "      <td>83</td>\n",
       "    </tr>\n",
       "  </tbody>\n",
       "</table>\n",
       "</div>"
      ],
      "text/plain": [
       "   hhref    weight      totinc      totexp       food    region  numads  \\\n",
       "0      1  0.856118  136.800003   68.044998  20.684999  Northern       1   \n",
       "1      2  0.856118  178.220001  134.720001  29.410000  Northern       1   \n",
       "2      3  1.147964  193.119995  220.154007  45.145000  Northern       2   \n",
       "3      4  1.008699  202.930008  101.184998  17.905001  Northern       1   \n",
       "4      5  1.169602  222.209991   81.120003  17.420000  Northern       1   \n",
       "\n",
       "   kids0  kids1  kids2  kids34  kids510  kids1116  kids1718  agehead  \n",
       "0      0      0      0       0        1         0         0       34  \n",
       "1      0      0      0       0        1         1         0       36  \n",
       "2      0      0      0       0        0         0         0       40  \n",
       "3      0      0      0       0        0         0         0       74  \n",
       "4      0      0      0       0        0         0         0       83  "
      ]
     },
     "execution_count": 1,
     "metadata": {},
     "output_type": "execute_result"
    }
   ],
   "source": [
    "import pandas as pd\n",
    "\n",
    "df = pd.read_stata(\"data-exercise-01-fes.dta\")\n",
    "df.head()"
   ]
  },
  {
   "cell_type": "code",
   "execution_count": 2,
   "id": "2b326265-4d66-4807-9020-a9ace7e722ef",
   "metadata": {},
   "outputs": [
    {
     "name": "stdout",
     "output_type": "stream",
     "text": [
      "<class 'pandas.core.frame.DataFrame'>\n",
      "RangeIndex: 6949 entries, 0 to 6948\n",
      "Data columns (total 15 columns):\n",
      " #   Column    Non-Null Count  Dtype   \n",
      "---  ------    --------------  -----   \n",
      " 0   hhref     6949 non-null   int16   \n",
      " 1   weight    6949 non-null   float32 \n",
      " 2   totinc    6949 non-null   float32 \n",
      " 3   totexp    6949 non-null   float32 \n",
      " 4   food      6949 non-null   float32 \n",
      " 5   region    6949 non-null   category\n",
      " 6   numads    6949 non-null   int8    \n",
      " 7   kids0     6949 non-null   int8    \n",
      " 8   kids1     6949 non-null   int8    \n",
      " 9   kids2     6949 non-null   int8    \n",
      " 10  kids34    6949 non-null   int8    \n",
      " 11  kids510   6949 non-null   int8    \n",
      " 12  kids1116  6949 non-null   int8    \n",
      " 13  kids1718  6949 non-null   int8    \n",
      " 14  agehead   6949 non-null   int8    \n",
      "dtypes: category(1), float32(4), int16(1), int8(9)\n",
      "memory usage: 190.5 KB\n",
      "Index(['hhref', 'weight', 'totinc', 'totexp', 'food', 'region', 'numads',\n",
      "       'kids0', 'kids1', 'kids2', 'kids34', 'kids510', 'kids1116', 'kids1718',\n",
      "       'agehead'],\n",
      "      dtype='object')\n"
     ]
    }
   ],
   "source": [
    "# Summary of dataset\n",
    "df.info()\n",
    "\n",
    "# Descriptive statistics\n",
    "df.describe()\n",
    "\n",
    "# List all column names\n",
    "print(df.columns)"
   ]
  },
  {
   "cell_type": "code",
   "execution_count": 3,
   "id": "cec38df9-421f-4699-8b60-8d78a58a3069",
   "metadata": {},
   "outputs": [
    {
     "data": {
      "text/plain": [
       "count    6949.000000\n",
       "mean        0.225788\n",
       "std         0.561776\n",
       "min         0.000000\n",
       "25%         0.000000\n",
       "50%         0.000000\n",
       "75%         0.000000\n",
       "max         4.000000\n",
       "Name: kids510, dtype: float64"
      ]
     },
     "execution_count": 3,
     "metadata": {},
     "output_type": "execute_result"
    }
   ],
   "source": [
    "# Frequency table for 'kids510'\n",
    "df['kids510'].value_counts(normalize=True)\n",
    "\n",
    "# Summary statistics for 'kids510'\n",
    "df['kids510'].describe()\n"
   ]
  },
  {
   "cell_type": "code",
   "execution_count": 6,
   "id": "eecfabcd-6f8a-4da2-b955-0368367d573d",
   "metadata": {},
   "outputs": [
    {
     "data": {
      "text/html": [
       "<div>\n",
       "<style scoped>\n",
       "    .dataframe tbody tr th:only-of-type {\n",
       "        vertical-align: middle;\n",
       "    }\n",
       "\n",
       "    .dataframe tbody tr th {\n",
       "        vertical-align: top;\n",
       "    }\n",
       "\n",
       "    .dataframe thead th {\n",
       "        text-align: right;\n",
       "    }\n",
       "</style>\n",
       "<table border=\"1\" class=\"dataframe\">\n",
       "  <thead>\n",
       "    <tr style=\"text-align: right;\">\n",
       "      <th></th>\n",
       "      <th>hhref</th>\n",
       "      <th>weight</th>\n",
       "      <th>totinc</th>\n",
       "      <th>totexp</th>\n",
       "      <th>food</th>\n",
       "      <th>region</th>\n",
       "      <th>numads</th>\n",
       "      <th>kids0</th>\n",
       "      <th>kids1</th>\n",
       "      <th>kids2</th>\n",
       "      <th>kids34</th>\n",
       "      <th>kids510</th>\n",
       "      <th>kids1116</th>\n",
       "      <th>kids1718</th>\n",
       "      <th>agehead</th>\n",
       "      <th>anninc</th>\n",
       "      <th>numkids</th>\n",
       "      <th>singpar</th>\n",
       "    </tr>\n",
       "  </thead>\n",
       "  <tbody>\n",
       "    <tr>\n",
       "      <th>0</th>\n",
       "      <td>1</td>\n",
       "      <td>0.856118</td>\n",
       "      <td>136.800003</td>\n",
       "      <td>68.044998</td>\n",
       "      <td>20.684999</td>\n",
       "      <td>Northern</td>\n",
       "      <td>1</td>\n",
       "      <td>0</td>\n",
       "      <td>0</td>\n",
       "      <td>0</td>\n",
       "      <td>0</td>\n",
       "      <td>1</td>\n",
       "      <td>0</td>\n",
       "      <td>0</td>\n",
       "      <td>34</td>\n",
       "      <td>7113.600098</td>\n",
       "      <td>1</td>\n",
       "      <td>1</td>\n",
       "    </tr>\n",
       "    <tr>\n",
       "      <th>1</th>\n",
       "      <td>2</td>\n",
       "      <td>0.856118</td>\n",
       "      <td>178.220001</td>\n",
       "      <td>134.720001</td>\n",
       "      <td>29.410000</td>\n",
       "      <td>Northern</td>\n",
       "      <td>1</td>\n",
       "      <td>0</td>\n",
       "      <td>0</td>\n",
       "      <td>0</td>\n",
       "      <td>0</td>\n",
       "      <td>1</td>\n",
       "      <td>1</td>\n",
       "      <td>0</td>\n",
       "      <td>36</td>\n",
       "      <td>9267.440430</td>\n",
       "      <td>2</td>\n",
       "      <td>1</td>\n",
       "    </tr>\n",
       "    <tr>\n",
       "      <th>2</th>\n",
       "      <td>3</td>\n",
       "      <td>1.147964</td>\n",
       "      <td>193.119995</td>\n",
       "      <td>220.154007</td>\n",
       "      <td>45.145000</td>\n",
       "      <td>Northern</td>\n",
       "      <td>2</td>\n",
       "      <td>0</td>\n",
       "      <td>0</td>\n",
       "      <td>0</td>\n",
       "      <td>0</td>\n",
       "      <td>0</td>\n",
       "      <td>0</td>\n",
       "      <td>0</td>\n",
       "      <td>40</td>\n",
       "      <td>10042.240234</td>\n",
       "      <td>0</td>\n",
       "      <td>0</td>\n",
       "    </tr>\n",
       "    <tr>\n",
       "      <th>3</th>\n",
       "      <td>4</td>\n",
       "      <td>1.008699</td>\n",
       "      <td>202.930008</td>\n",
       "      <td>101.184998</td>\n",
       "      <td>17.905001</td>\n",
       "      <td>Northern</td>\n",
       "      <td>1</td>\n",
       "      <td>0</td>\n",
       "      <td>0</td>\n",
       "      <td>0</td>\n",
       "      <td>0</td>\n",
       "      <td>0</td>\n",
       "      <td>0</td>\n",
       "      <td>0</td>\n",
       "      <td>74</td>\n",
       "      <td>10552.360352</td>\n",
       "      <td>0</td>\n",
       "      <td>0</td>\n",
       "    </tr>\n",
       "    <tr>\n",
       "      <th>4</th>\n",
       "      <td>5</td>\n",
       "      <td>1.169602</td>\n",
       "      <td>222.209991</td>\n",
       "      <td>81.120003</td>\n",
       "      <td>17.420000</td>\n",
       "      <td>Northern</td>\n",
       "      <td>1</td>\n",
       "      <td>0</td>\n",
       "      <td>0</td>\n",
       "      <td>0</td>\n",
       "      <td>0</td>\n",
       "      <td>0</td>\n",
       "      <td>0</td>\n",
       "      <td>0</td>\n",
       "      <td>83</td>\n",
       "      <td>11554.919922</td>\n",
       "      <td>0</td>\n",
       "      <td>0</td>\n",
       "    </tr>\n",
       "  </tbody>\n",
       "</table>\n",
       "</div>"
      ],
      "text/plain": [
       "   hhref    weight      totinc      totexp       food    region  numads  \\\n",
       "0      1  0.856118  136.800003   68.044998  20.684999  Northern       1   \n",
       "1      2  0.856118  178.220001  134.720001  29.410000  Northern       1   \n",
       "2      3  1.147964  193.119995  220.154007  45.145000  Northern       2   \n",
       "3      4  1.008699  202.930008  101.184998  17.905001  Northern       1   \n",
       "4      5  1.169602  222.209991   81.120003  17.420000  Northern       1   \n",
       "\n",
       "   kids0  kids1  kids2  kids34  kids510  kids1116  kids1718  agehead  \\\n",
       "0      0      0      0       0        1         0         0       34   \n",
       "1      0      0      0       0        1         1         0       36   \n",
       "2      0      0      0       0        0         0         0       40   \n",
       "3      0      0      0       0        0         0         0       74   \n",
       "4      0      0      0       0        0         0         0       83   \n",
       "\n",
       "         anninc  numkids  singpar  \n",
       "0   7113.600098        1        1  \n",
       "1   9267.440430        2        1  \n",
       "2  10042.240234        0        0  \n",
       "3  10552.360352        0        0  \n",
       "4  11554.919922        0        0  "
      ]
     },
     "execution_count": 6,
     "metadata": {},
     "output_type": "execute_result"
    }
   ],
   "source": [
    "# Annual income\n",
    "df['anninc'] = df['totinc'] * 52\n",
    "\n",
    "# Number of children\n",
    "kids_cols = ['kids0', 'kids1', 'kids2', 'kids34', 'kids510', 'kids1116', 'kids1718']\n",
    "df['numkids'] = df[kids_cols].sum(axis=1)\n",
    "\n",
    "# Single parent dummy\n",
    "df['singpar'] = ((df['numads'] == 1) & (df['numkids'] > 0)).astype(int)\n",
    "\n",
    "# Inspecting DataFrame\n",
    "df.head()"
   ]
  },
  {
   "cell_type": "code",
   "execution_count": 7,
   "id": "21d7d35d-c971-44bd-ad0a-579b45338d31",
   "metadata": {},
   "outputs": [
    {
     "data": {
      "image/png": "[encoded data removed]",
      "text/plain": [
       "<Figure size 640x480 with 1 Axes>"
      ]
     },
     "metadata": {},
     "output_type": "display_data"
    },
    {
     "name": "stderr",
     "output_type": "stream",
     "text": [
      "/var/folders/xl/7_m5fsws7r33y18gh28hn8br0000gn/T/ipykernel_13594/2498696071.py:12: FutureWarning: \n",
      "\n",
      "`shade` is now deprecated in favor of `fill`; setting `fill=True`.\n",
      "This will become an error in seaborn v0.14.0; please update your code.\n",
      "\n",
      "  sns.kdeplot(df['anninc'], shade=True)\n"
     ]
    },
    {
     "data": {
      "image/png": "[encoded data removed]",
      "text/plain": [
       "<Figure size 640x480 with 1 Axes>"
      ]
     },
     "metadata": {},
     "output_type": "display_data"
    },
    {
     "name": "stderr",
     "output_type": "stream",
     "text": [
      "/var/folders/xl/7_m5fsws7r33y18gh28hn8br0000gn/T/ipykernel_13594/2498696071.py:20: FutureWarning: \n",
      "\n",
      "`shade` is now deprecated in favor of `fill`; setting `fill=True`.\n",
      "This will become an error in seaborn v0.14.0; please update your code.\n",
      "\n",
      "  sns.kdeplot(df['log_anninc'].dropna(), shade=True)\n"
     ]
    },
    {
     "data": {
      "image/png": "[encoded data removed]",
      "text/plain": [
       "<Figure size 640x480 with 1 Axes>"
      ]
     },
     "metadata": {},
     "output_type": "display_data"
    }
   ],
   "source": [
    "import matplotlib.pyplot as plt\n",
    "import seaborn as sns\n",
    "\n",
    "# Histogram of annual income\n",
    "sns.histplot(df['anninc'], bins=50)\n",
    "plt.title(\"Annual Household Income Distribution\")\n",
    "plt.xlabel(\"Annual Income\")\n",
    "plt.ylabel(\"Count\")\n",
    "plt.show()\n",
    "\n",
    "# Kernel density\n",
    "sns.kdeplot(df['anninc'], shade=True)\n",
    "plt.title(\"Density Plot of Annual Income\")\n",
    "plt.show()\n",
    "\n",
    "# Log of income\n",
    "import numpy as np\n",
    "df['log_anninc'] = np.log(df['anninc'].replace(0, np.nan))\n",
    "\n",
    "sns.kdeplot(df['log_anninc'].dropna(), shade=True)\n",
    "plt.title(\"Log of Annual Income - KDE\")\n",
    "plt.show()\n"
   ]
  },
  {
   "cell_type": "code",
   "execution_count": 8,
   "id": "557ee283-ad6d-4cfb-8122-95de6847fd5a",
   "metadata": {},
   "outputs": [
    {
     "name": "stdout",
     "output_type": "stream",
     "text": [
      "Poverty line: 9088.8720703125\n",
      "Poverty rate: 0.23255144625125918\n",
      "Proportion of poor households with kids: 0.1974009900990099\n"
     ]
    }
   ],
   "source": [
    "# 60% of median income\n",
    "poverty_line = df['anninc'].median() * 0.6\n",
    "\n",
    "# Poverty flag\n",
    "df['poor'] = (df['anninc'] < poverty_line).astype(int)\n",
    "\n",
    "# Proportion of poor households\n",
    "poor_rate = df['poor'].mean()\n",
    "\n",
    "# Proportion of poor households with children\n",
    "df['has_kids'] = (df['numkids'] > 0).astype(int)\n",
    "poor_with_kids = df[df['poor'] == 1]['has_kids'].mean()\n",
    "\n",
    "print(\"Poverty line:\", poverty_line)\n",
    "print(\"Poverty rate:\", poor_rate)\n",
    "print(\"Proportion of poor households with kids:\", poor_with_kids)\n"
   ]
  },
  {
   "cell_type": "code",
   "execution_count": 9,
   "id": "f324ad43-f8a9-4992-98a6-b74423b93fd5",
   "metadata": {},
   "outputs": [
    {
     "data": {
      "text/html": [
       "<div>\n",
       "<style scoped>\n",
       "    .dataframe tbody tr th:only-of-type {\n",
       "        vertical-align: middle;\n",
       "    }\n",
       "\n",
       "    .dataframe tbody tr th {\n",
       "        vertical-align: top;\n",
       "    }\n",
       "\n",
       "    .dataframe thead th {\n",
       "        text-align: right;\n",
       "    }\n",
       "</style>\n",
       "<table border=\"1\" class=\"dataframe\">\n",
       "  <thead>\n",
       "    <tr style=\"text-align: right;\">\n",
       "      <th>exp_quartile</th>\n",
       "      <th>0</th>\n",
       "      <th>1</th>\n",
       "      <th>2</th>\n",
       "      <th>3</th>\n",
       "    </tr>\n",
       "    <tr>\n",
       "      <th>inc_quartile</th>\n",
       "      <th></th>\n",
       "      <th></th>\n",
       "      <th></th>\n",
       "      <th></th>\n",
       "    </tr>\n",
       "  </thead>\n",
       "  <tbody>\n",
       "    <tr>\n",
       "      <th>0</th>\n",
       "      <td>0.699655</td>\n",
       "      <td>0.219793</td>\n",
       "      <td>0.062140</td>\n",
       "      <td>0.018412</td>\n",
       "    </tr>\n",
       "    <tr>\n",
       "      <th>1</th>\n",
       "      <td>0.257916</td>\n",
       "      <td>0.458261</td>\n",
       "      <td>0.210708</td>\n",
       "      <td>0.073115</td>\n",
       "    </tr>\n",
       "    <tr>\n",
       "      <th>2</th>\n",
       "      <td>0.035118</td>\n",
       "      <td>0.266552</td>\n",
       "      <td>0.456534</td>\n",
       "      <td>0.241796</td>\n",
       "    </tr>\n",
       "    <tr>\n",
       "      <th>3</th>\n",
       "      <td>0.007484</td>\n",
       "      <td>0.055268</td>\n",
       "      <td>0.270581</td>\n",
       "      <td>0.666667</td>\n",
       "    </tr>\n",
       "  </tbody>\n",
       "</table>\n",
       "</div>"
      ],
      "text/plain": [
       "exp_quartile         0         1         2         3\n",
       "inc_quartile                                        \n",
       "0             0.699655  0.219793  0.062140  0.018412\n",
       "1             0.257916  0.458261  0.210708  0.073115\n",
       "2             0.035118  0.266552  0.456534  0.241796\n",
       "3             0.007484  0.055268  0.270581  0.666667"
      ]
     },
     "execution_count": 9,
     "metadata": {},
     "output_type": "execute_result"
    }
   ],
   "source": [
    "# Income and spending quartiles\n",
    "df['inc_quartile'] = pd.qcut(df['totinc'], 4, labels=False)\n",
    "df['exp_quartile'] = pd.qcut(df['totexp'], 4, labels=False)\n",
    "\n",
    "# Cross-tab\n",
    "pd.crosstab(df['inc_quartile'], df['exp_quartile'], normalize='index')\n"
   ]
  },
  {
   "cell_type": "code",
   "execution_count": 10,
   "id": "0fac9548-93b4-41d9-aa2a-1d7b9b5a3854",
   "metadata": {},
   "outputs": [
    {
     "name": "stderr",
     "output_type": "stream",
     "text": [
      "/var/folders/xl/7_m5fsws7r33y18gh28hn8br0000gn/T/ipykernel_13594/4289808504.py:2: FutureWarning: The default of observed=False is deprecated and will be changed to True in a future version of pandas. Pass observed=False to retain current behavior or observed=True to adopt the future default and silence this warning.\n",
      "  region_means = df.groupby('region')['totinc'].mean()\n"
     ]
    }
   ],
   "source": [
    "# Mean income by region\n",
    "region_means = df.groupby('region')['totinc'].mean()\n",
    "\n",
    "# Mean income by household type (you'd need to define hhtype first)\n",
    "# For now, example:\n",
    "# df['hhtype'] = ...\n"
   ]
  },
  {
   "cell_type": "code",
   "execution_count": 11,
   "id": "bd4dc561-ba9c-4351-9101-e34bab0539b4",
   "metadata": {},
   "outputs": [
    {
     "name": "stdout",
     "output_type": "stream",
     "text": [
      "T-statistic: -13.709165764320069\n",
      "P-value: 3.160771575973994e-42\n"
     ]
    }
   ],
   "source": [
    "from scipy import stats\n",
    "\n",
    "# Let's compare mean poverty rate between families and non-families\n",
    "df['family'] = (df['numkids'] > 0).astype(int)\n",
    "\n",
    "family_poor = df[df['family'] == 1]['poor']\n",
    "nonfamily_poor = df[df['family'] == 0]['poor']\n",
    "\n",
    "t_stat, p_value = stats.ttest_ind(family_poor, nonfamily_poor)\n",
    "\n",
    "print(\"T-statistic:\", t_stat)\n",
    "print(\"P-value:\", p_value)\n"
   ]
  },
  {
   "cell_type": "code",
   "execution_count": 12,
   "id": "16a143c8-996e-4bf5-88bf-329ebe064b3b",
   "metadata": {},
   "outputs": [
    {
     "data": {
      "text/plain": [
       "count    6941.000000\n",
       "mean      363.559326\n",
       "std       295.250885\n",
       "min        51.019997\n",
       "25%       181.270004\n",
       "50%       291.309998\n",
       "75%       465.339996\n",
       "max      7292.209961\n",
       "Name: totinc, dtype: float64"
      ]
     },
     "execution_count": 12,
     "metadata": {},
     "output_type": "execute_result"
    }
   ],
   "source": [
    "# Drop top and bottom 4 incomes\n",
    "df_sorted = df.sort_values('totinc')\n",
    "df_trimmed = df_sorted.iloc[4:-4]\n",
    "\n",
    "# Re-check distribution\n",
    "df_trimmed['totinc'].describe()\n"
   ]
  },
  {
   "cell_type": "code",
   "execution_count": 13,
   "id": "6cf6efa3-6242-4cde-bfce-3e36f2ef734d",
   "metadata": {},
   "outputs": [
    {
     "name": "stdout",
     "output_type": "stream",
     "text": [
      "Weighted mean income: 377.85492\n"
     ]
    }
   ],
   "source": [
    "# Weighted average using np.average\n",
    "weighted_mean = np.average(df['totinc'], weights=df['weight'])\n",
    "\n",
    "print(\"Weighted mean income:\", weighted_mean)\n"
   ]
  },
  {
   "cell_type": "code",
   "execution_count": 14,
   "id": "7348d71a-0f82-4575-af8b-09ca5cfda187",
   "metadata": {},
   "outputs": [
    {
     "ename": "KeyError",
     "evalue": "'scale'",
     "output_type": "error",
     "traceback": [
      "\u001b[0;31m---------------------------------------------------------------------------\u001b[0m",
      "\u001b[0;31mKeyError\u001b[0m                                  Traceback (most recent call last)",
      "File \u001b[0;32m/opt/anaconda3/lib/python3.13/site-packages/pandas/core/indexes/base.py:3805\u001b[0m, in \u001b[0;36mIndex.get_loc\u001b[0;34m(self, key)\u001b[0m\n\u001b[1;32m   3804\u001b[0m \u001b[38;5;28;01mtry\u001b[39;00m:\n\u001b[0;32m-> 3805\u001b[0m     \u001b[38;5;28;01mreturn\u001b[39;00m \u001b[38;5;28mself\u001b[39m\u001b[38;5;241m.\u001b[39m_engine\u001b[38;5;241m.\u001b[39mget_loc(casted_key)\n\u001b[1;32m   3806\u001b[0m \u001b[38;5;28;01mexcept\u001b[39;00m \u001b[38;5;167;01mKeyError\u001b[39;00m \u001b[38;5;28;01mas\u001b[39;00m err:\n",
      "File \u001b[0;32mindex.pyx:167\u001b[0m, in \u001b[0;36mpandas._libs.index.IndexEngine.get_loc\u001b[0;34m()\u001b[0m\n",
      "File \u001b[0;32mindex.pyx:196\u001b[0m, in \u001b[0;36mpandas._libs.index.IndexEngine.get_loc\u001b[0;34m()\u001b[0m\n",
      "File \u001b[0;32mpandas/_libs/hashtable_class_helper.pxi:7081\u001b[0m, in \u001b[0;36mpandas._libs.hashtable.PyObjectHashTable.get_item\u001b[0;34m()\u001b[0m\n",
      "File \u001b[0;32mpandas/_libs/hashtable_class_helper.pxi:7089\u001b[0m, in \u001b[0;36mpandas._libs.hashtable.PyObjectHashTable.get_item\u001b[0;34m()\u001b[0m\n",
      "\u001b[0;31mKeyError\u001b[0m: 'scale'",
      "\nThe above exception was the direct cause of the following exception:\n",
      "\u001b[0;31mKeyError\u001b[0m                                  Traceback (most recent call last)",
      "Cell \u001b[0;32mIn[14], line 1\u001b[0m\n\u001b[0;32m----> 1\u001b[0m df[\u001b[38;5;124m'\u001b[39m\u001b[38;5;124mequiv_inc\u001b[39m\u001b[38;5;124m'\u001b[39m] \u001b[38;5;241m=\u001b[39m df[\u001b[38;5;124m'\u001b[39m\u001b[38;5;124manninc\u001b[39m\u001b[38;5;124m'\u001b[39m] \u001b[38;5;241m/\u001b[39m df[\u001b[38;5;124m'\u001b[39m\u001b[38;5;124mscale\u001b[39m\u001b[38;5;124m'\u001b[39m]\n\u001b[1;32m      3\u001b[0m \u001b[38;5;66;03m# Compare across groups\u001b[39;00m\n\u001b[1;32m      4\u001b[0m df\u001b[38;5;241m.\u001b[39mgroupby(\u001b[38;5;124m'\u001b[39m\u001b[38;5;124mhhtype\u001b[39m\u001b[38;5;124m'\u001b[39m)[\u001b[38;5;124m'\u001b[39m\u001b[38;5;124mequiv_inc\u001b[39m\u001b[38;5;124m'\u001b[39m]\u001b[38;5;241m.\u001b[39mmean()\n",
      "File \u001b[0;32m/opt/anaconda3/lib/python3.13/site-packages/pandas/core/frame.py:4102\u001b[0m, in \u001b[0;36mDataFrame.__getitem__\u001b[0;34m(self, key)\u001b[0m\n\u001b[1;32m   4100\u001b[0m \u001b[38;5;28;01mif\u001b[39;00m \u001b[38;5;28mself\u001b[39m\u001b[38;5;241m.\u001b[39mcolumns\u001b[38;5;241m.\u001b[39mnlevels \u001b[38;5;241m>\u001b[39m \u001b[38;5;241m1\u001b[39m:\n\u001b[1;32m   4101\u001b[0m     \u001b[38;5;28;01mreturn\u001b[39;00m \u001b[38;5;28mself\u001b[39m\u001b[38;5;241m.\u001b[39m_getitem_multilevel(key)\n\u001b[0;32m-> 4102\u001b[0m indexer \u001b[38;5;241m=\u001b[39m \u001b[38;5;28mself\u001b[39m\u001b[38;5;241m.\u001b[39mcolumns\u001b[38;5;241m.\u001b[39mget_loc(key)\n\u001b[1;32m   4103\u001b[0m \u001b[38;5;28;01mif\u001b[39;00m is_integer(indexer):\n\u001b[1;32m   4104\u001b[0m     indexer \u001b[38;5;241m=\u001b[39m [indexer]\n",
      "File \u001b[0;32m/opt/anaconda3/lib/python3.13/site-packages/pandas/core/indexes/base.py:3812\u001b[0m, in \u001b[0;36mIndex.get_loc\u001b[0;34m(self, key)\u001b[0m\n\u001b[1;32m   3807\u001b[0m     \u001b[38;5;28;01mif\u001b[39;00m \u001b[38;5;28misinstance\u001b[39m(casted_key, \u001b[38;5;28mslice\u001b[39m) \u001b[38;5;129;01mor\u001b[39;00m (\n\u001b[1;32m   3808\u001b[0m         \u001b[38;5;28misinstance\u001b[39m(casted_key, abc\u001b[38;5;241m.\u001b[39mIterable)\n\u001b[1;32m   3809\u001b[0m         \u001b[38;5;129;01mand\u001b[39;00m \u001b[38;5;28many\u001b[39m(\u001b[38;5;28misinstance\u001b[39m(x, \u001b[38;5;28mslice\u001b[39m) \u001b[38;5;28;01mfor\u001b[39;00m x \u001b[38;5;129;01min\u001b[39;00m casted_key)\n\u001b[1;32m   3810\u001b[0m     ):\n\u001b[1;32m   3811\u001b[0m         \u001b[38;5;28;01mraise\u001b[39;00m InvalidIndexError(key)\n\u001b[0;32m-> 3812\u001b[0m     \u001b[38;5;28;01mraise\u001b[39;00m \u001b[38;5;167;01mKeyError\u001b[39;00m(key) \u001b[38;5;28;01mfrom\u001b[39;00m\u001b[38;5;250m \u001b[39m\u001b[38;5;21;01merr\u001b[39;00m\n\u001b[1;32m   3813\u001b[0m \u001b[38;5;28;01mexcept\u001b[39;00m \u001b[38;5;167;01mTypeError\u001b[39;00m:\n\u001b[1;32m   3814\u001b[0m     \u001b[38;5;66;03m# If we have a listlike key, _check_indexing_error will raise\u001b[39;00m\n\u001b[1;32m   3815\u001b[0m     \u001b[38;5;66;03m#  InvalidIndexError. Otherwise we fall through and re-raise\u001b[39;00m\n\u001b[1;32m   3816\u001b[0m     \u001b[38;5;66;03m#  the TypeError.\u001b[39;00m\n\u001b[1;32m   3817\u001b[0m     \u001b[38;5;28mself\u001b[39m\u001b[38;5;241m.\u001b[39m_check_indexing_error(key)\n",
      "\u001b[0;31mKeyError\u001b[0m: 'scale'"
     ]
    }
   ],
   "source": [
    "df['equiv_inc'] = df['anninc'] / df['scale']\n",
    "\n",
    "# Compare across groups\n",
    "df.groupby('hhtype')['equiv_inc'].mean()\n"
   ]
  },
  {
   "cell_type": "code",
   "execution_count": null,
   "id": "6a59aae6-332d-441d-bc4c-444d299a4d0d",
   "metadata": {},
   "outputs": [],
   "source": []
  }
 ],
 "metadata": {
  "kernelspec": {
   "display_name": "Python [conda env:base] *",
   "language": "python",
   "name": "conda-base-py"
  },
  "language_info": {
   "codemirror_mode": {
    "name": "ipython",
    "version": 3
   },
   "file_extension": ".py",
   "mimetype": "text/x-python",
   "name": "python",
   "nbconvert_exporter": "python",
   "pygments_lexer": "ipython3",
   "version": "3.13.5"
  }
 },
 "nbformat": 4,
 "nbformat_minor": 5
}
